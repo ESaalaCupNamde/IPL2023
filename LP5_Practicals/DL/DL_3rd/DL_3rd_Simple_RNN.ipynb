{
  "cells": [
    {
      "cell_type": "code",
      "execution_count": null,
      "id": "8fc288ed",
      "metadata": {
        "id": "8fc288ed"
      },
      "outputs": [],
      "source": [
        "import pandas as pd\n",
        "import matplotlib.pyplot as plt\n",
        "import numpy as np"
      ]
    },
    {
      "cell_type": "code",
      "source": [
        "train_df = pd.read_csv('/Google_Stock_Price_Train.csv')\n",
        "train_df.info()"
      ],
      "metadata": {
        "colab": {
          "base_uri": "https://localhost:8080/"
        },
        "id": "LJcGnJoHURhn",
        "outputId": "1428ad0a-6955-4a83-f76c-a018f8389355"
      },
      "id": "LJcGnJoHURhn",
      "execution_count": 23,
      "outputs": [
        {
          "output_type": "stream",
          "name": "stdout",
          "text": [
            "<class 'pandas.core.frame.DataFrame'>\n",
            "RangeIndex: 1258 entries, 0 to 1257\n",
            "Data columns (total 6 columns):\n",
            " #   Column  Non-Null Count  Dtype  \n",
            "---  ------  --------------  -----  \n",
            " 0   Date    1258 non-null   object \n",
            " 1   Open    1258 non-null   float64\n",
            " 2   High    1258 non-null   float64\n",
            " 3   Low     1258 non-null   float64\n",
            " 4   Close   1258 non-null   object \n",
            " 5   Volume  1258 non-null   object \n",
            "dtypes: float64(3), object(3)\n",
            "memory usage: 59.1+ KB\n"
          ]
        }
      ]
    },
    {
      "cell_type": "markdown",
      "id": "7a8b11c3",
      "metadata": {
        "id": "7a8b11c3"
      },
      "source": [
        "### Loading the dataset"
      ]
    },
    {
      "cell_type": "code",
      "execution_count": 25,
      "id": "25f5fba2",
      "metadata": {
        "id": "25f5fba2",
        "outputId": "a025e4f3-7faa-4f93-bff0-e181f90adf20",
        "colab": {
          "base_uri": "https://localhost:8080/"
        }
      },
      "outputs": [
        {
          "output_type": "stream",
          "name": "stdout",
          "text": [
            "<class 'pandas.core.frame.DataFrame'>\n",
            "RangeIndex: 20 entries, 0 to 19\n",
            "Data columns (total 6 columns):\n",
            " #   Column  Non-Null Count  Dtype  \n",
            "---  ------  --------------  -----  \n",
            " 0   Date    20 non-null     object \n",
            " 1   Open    20 non-null     float64\n",
            " 2   High    20 non-null     float64\n",
            " 3   Low     20 non-null     float64\n",
            " 4   Close   20 non-null     float64\n",
            " 5   Volume  20 non-null     object \n",
            "dtypes: float64(4), object(2)\n",
            "memory usage: 1.1+ KB\n"
          ]
        }
      ],
      "source": [
        "test_df = pd.read_csv('Google_Stock_Price_Test.csv')\n",
        "test_df.info()"
      ]
    },
    {
      "cell_type": "markdown",
      "id": "0099e4a3",
      "metadata": {
        "id": "0099e4a3"
      },
      "source": [
        "#### Choosing column 'open' for predicition"
      ]
    },
    {
      "cell_type": "code",
      "execution_count": 26,
      "id": "919e13c0",
      "metadata": {
        "id": "919e13c0",
        "outputId": "2b09effd-baad-4db3-c5ab-37969a6470bc",
        "colab": {
          "base_uri": "https://localhost:8080/"
        }
      },
      "outputs": [
        {
          "output_type": "execute_result",
          "data": {
            "text/plain": [
              "(1258, 1)"
            ]
          },
          "metadata": {},
          "execution_count": 26
        }
      ],
      "source": [
        "train = train_df.loc[:,[\"Open\"]].values\n",
        "train.shape"
      ]
    },
    {
      "cell_type": "markdown",
      "id": "3f92995d",
      "metadata": {
        "id": "3f92995d"
      },
      "source": [
        "### Feature Scaling"
      ]
    },
    {
      "cell_type": "code",
      "execution_count": 27,
      "id": "aa770ef9",
      "metadata": {
        "id": "aa770ef9"
      },
      "outputs": [],
      "source": [
        "from sklearn.preprocessing import MinMaxScaler\n",
        "scaler = MinMaxScaler()"
      ]
    },
    {
      "cell_type": "code",
      "execution_count": 28,
      "id": "9e86778f",
      "metadata": {
        "id": "9e86778f",
        "colab": {
          "base_uri": "https://localhost:8080/"
        },
        "outputId": "4adcee45-8933-4d86-9fe2-85c7c52da115"
      },
      "outputs": [
        {
          "output_type": "execute_result",
          "data": {
            "text/plain": [
              "1258"
            ]
          },
          "metadata": {},
          "execution_count": 28
        }
      ],
      "source": [
        "train_scaled = scaler.fit_transform(train)\n",
        "train_scaled.shape[0]"
      ]
    },
    {
      "cell_type": "code",
      "execution_count": 29,
      "id": "815c90eb",
      "metadata": {
        "id": "815c90eb",
        "outputId": "cbe8f99b-f328-44c5-e7ef-ef8e29633bf7",
        "colab": {
          "base_uri": "https://localhost:8080/",
          "height": 449
        }
      },
      "outputs": [
        {
          "output_type": "display_data",
          "data": {
            "text/plain": [
              "<Figure size 640x480 with 1 Axes>"
            ],
            "image/png": "[encoded data removed]"
          },
          "metadata": {}
        }
      ],
      "source": [
        "plt.plot(train_scaled)\n",
        "plt.ylabel(\"Standardized Values\")\n",
        "plt.xlabel(\"Time->\")\n",
        "plt.show()"
      ]
    },
    {
      "cell_type": "markdown",
      "id": "afd48559",
      "metadata": {
        "id": "afd48559"
      },
      "source": [
        "### Create data structure to train model  \n",
        "Taking reference of past 60 days to predict future stock price  \n",
        "x_train will have data of 60 days prior to current date and y_train will have price on current date"
      ]
    },
    {
      "cell_type": "code",
      "execution_count": 30,
      "id": "c2e7aaea",
      "metadata": {
        "id": "c2e7aaea"
      },
      "outputs": [],
      "source": [
        "x_train = []\n",
        "y_train = []\n",
        "time = 60\n",
        "for i in range(60,train_scaled.shape[0]):\n",
        "    x_train.append(train_scaled[i-60:i,0])\n",
        "    y_train.append(train_scaled[i,0])\n",
        "x_train = np.array(x_train)\n",
        "y_train = np.array(y_train)"
      ]
    },
    {
      "cell_type": "code",
      "execution_count": 31,
      "id": "d3d50977",
      "metadata": {
        "id": "d3d50977",
        "outputId": "6c5483e9-2be2-4f42-ce51-512c6a2bb9c1",
        "colab": {
          "base_uri": "https://localhost:8080/"
        }
      },
      "outputs": [
        {
          "output_type": "execute_result",
          "data": {
            "text/plain": [
              "((1198, 60), (1198,))"
            ]
          },
          "metadata": {},
          "execution_count": 31
        }
      ],
      "source": [
        "x_train.shape,y_train.shape"
      ]
    },
    {
      "cell_type": "code",
      "execution_count": 32,
      "id": "49806d76",
      "metadata": {
        "id": "49806d76",
        "outputId": "211a9a8d-050f-411a-c730-393ac66ed2df",
        "colab": {
          "base_uri": "https://localhost:8080/"
        }
      },
      "outputs": [
        {
          "output_type": "execute_result",
          "data": {
            "text/plain": [
              "(1198, 60, 1)"
            ]
          },
          "metadata": {},
          "execution_count": 32
        }
      ],
      "source": [
        "x_train = np.reshape(x_train,newshape=(x_train.shape[0],x_train.shape[1],1))\n",
        "x_train.shape"
      ]
    },
    {
      "cell_type": "markdown",
      "id": "2db3dac7",
      "metadata": {
        "id": "2db3dac7"
      },
      "source": [
        "### Build model"
      ]
    },
    {
      "cell_type": "code",
      "execution_count": 33,
      "id": "302ed403",
      "metadata": {
        "id": "302ed403"
      },
      "outputs": [],
      "source": [
        "from keras.models import Sequential\n",
        "from keras.layers import Dense, SimpleRNN,Dropout"
      ]
    },
    {
      "cell_type": "code",
      "execution_count": 34,
      "id": "860d847d",
      "metadata": {
        "id": "860d847d",
        "outputId": "3391cf9d-ac6b-49b7-fbc7-9f77d922b9be",
        "colab": {
          "base_uri": "https://localhost:8080/"
        }
      },
      "outputs": [
        {
          "output_type": "stream",
          "name": "stdout",
          "text": [
            "Model: \"sequential\"\n",
            "_________________________________________________________________\n",
            " Layer (type)                Output Shape              Param #   \n",
            "=================================================================\n",
            " simple_rnn (SimpleRNN)      (None, 60, 50)            2600      \n",
            "                                                                 \n",
            " dropout (Dropout)           (None, 60, 50)            0         \n",
            "                                                                 \n",
            " simple_rnn_1 (SimpleRNN)    (None, 60, 50)            5050      \n",
            "                                                                 \n",
            " dropout_1 (Dropout)         (None, 60, 50)            0         \n",
            "                                                                 \n",
            " simple_rnn_2 (SimpleRNN)    (None, 60, 50)            5050      \n",
            "                                                                 \n",
            " dropout_2 (Dropout)         (None, 60, 50)            0         \n",
            "                                                                 \n",
            " simple_rnn_3 (SimpleRNN)    (None, 50)                5050      \n",
            "                                                                 \n",
            " dropout_3 (Dropout)         (None, 50)                0         \n",
            "                                                                 \n",
            " dense (Dense)               (None, 1)                 51        \n",
            "                                                                 \n",
            "=================================================================\n",
            "Total params: 17,801\n",
            "Trainable params: 17,801\n",
            "Non-trainable params: 0\n",
            "_________________________________________________________________\n"
          ]
        }
      ],
      "source": [
        "model = Sequential()\n",
        "\n",
        "model.add(SimpleRNN(units=50,activation = \"tanh\", return_sequences = True, input_shape = (x_train.shape[1], 1)))\n",
        "model.add(Dropout(0.2))\n",
        "\n",
        "model.add(SimpleRNN(units=50,activation = \"tanh\", return_sequences = True))\n",
        "model.add(Dropout(0.2))\n",
        "\n",
        "model.add(SimpleRNN(units=50,activation = \"tanh\", return_sequences = True))\n",
        "model.add(Dropout(0.2))\n",
        "\n",
        "model.add(SimpleRNN(units=50))\n",
        "model.add(Dropout(0.2))\n",
        "\n",
        "model.add(Dense(units=1))\n",
        "\n",
        "model.compile(optimizer='adam',loss='mse')\n",
        "model.summary()"
      ]
    },
    {
      "cell_type": "code",
      "execution_count": 35,
      "id": "d807b7de",
      "metadata": {
        "id": "d807b7de",
        "outputId": "d8dab610-c6a4-4377-d997-664110851360",
        "colab": {
          "base_uri": "https://localhost:8080/"
        }
      },
      "outputs": [
        {
          "output_type": "stream",
          "name": "stdout",
          "text": [
            "Epoch 1/100\n",
            "38/38 [==============================] - 9s 108ms/step - loss: 0.3842 - val_loss: 0.0061\n",
            "Epoch 2/100\n",
            "38/38 [==============================] - 3s 90ms/step - loss: 0.2496 - val_loss: 0.0032\n",
            "Epoch 3/100\n",
            "38/38 [==============================] - 3s 74ms/step - loss: 0.1784 - val_loss: 0.0028\n",
            "Epoch 4/100\n",
            "38/38 [==============================] - 3s 75ms/step - loss: 0.1288 - val_loss: 0.0128\n",
            "Epoch 5/100\n",
            "38/38 [==============================] - 3s 85ms/step - loss: 0.1083 - val_loss: 0.0190\n",
            "Epoch 6/100\n",
            "38/38 [==============================] - 4s 97ms/step - loss: 0.0780 - val_loss: 0.0061\n",
            "Epoch 7/100\n",
            "38/38 [==============================] - 3s 73ms/step - loss: 0.0660 - val_loss: 0.0443\n",
            "Epoch 8/100\n",
            "38/38 [==============================] - 3s 72ms/step - loss: 0.0577 - val_loss: 0.0043\n",
            "Epoch 9/100\n",
            "38/38 [==============================] - 3s 74ms/step - loss: 0.0485 - val_loss: 8.9905e-04\n",
            "Epoch 10/100\n",
            "38/38 [==============================] - 4s 109ms/step - loss: 0.0416 - val_loss: 0.0388\n",
            "Epoch 11/100\n",
            "38/38 [==============================] - 3s 72ms/step - loss: 0.0381 - val_loss: 0.0033\n",
            "Epoch 12/100\n",
            "38/38 [==============================] - 3s 72ms/step - loss: 0.0322 - val_loss: 0.0016\n",
            "Epoch 13/100\n",
            "38/38 [==============================] - 3s 70ms/step - loss: 0.0267 - val_loss: 6.0931e-04\n",
            "Epoch 14/100\n",
            "38/38 [==============================] - 4s 103ms/step - loss: 0.0250 - val_loss: 0.0057\n",
            "Epoch 15/100\n",
            "38/38 [==============================] - 3s 75ms/step - loss: 0.0256 - val_loss: 0.0074\n",
            "Epoch 16/100\n",
            "38/38 [==============================] - 3s 73ms/step - loss: 0.0228 - val_loss: 5.2759e-04\n",
            "Epoch 17/100\n",
            "38/38 [==============================] - 3s 72ms/step - loss: 0.0197 - val_loss: 0.0027\n",
            "Epoch 18/100\n",
            "38/38 [==============================] - 3s 87ms/step - loss: 0.0186 - val_loss: 7.1858e-04\n",
            "Epoch 19/100\n",
            "38/38 [==============================] - 3s 89ms/step - loss: 0.0176 - val_loss: 0.0020\n",
            "Epoch 20/100\n",
            "38/38 [==============================] - 3s 74ms/step - loss: 0.0145 - val_loss: 0.0023\n",
            "Epoch 21/100\n",
            "38/38 [==============================] - 3s 72ms/step - loss: 0.0135 - val_loss: 0.0029\n",
            "Epoch 22/100\n",
            "38/38 [==============================] - 3s 71ms/step - loss: 0.0128 - val_loss: 8.6384e-04\n",
            "Epoch 23/100\n",
            "38/38 [==============================] - 4s 107ms/step - loss: 0.0113 - val_loss: 6.7593e-04\n",
            "Epoch 24/100\n",
            "38/38 [==============================] - 3s 73ms/step - loss: 0.0118 - val_loss: 7.1976e-04\n",
            "Epoch 25/100\n",
            "38/38 [==============================] - 3s 73ms/step - loss: 0.0118 - val_loss: 0.0044\n",
            "Epoch 26/100\n",
            "38/38 [==============================] - 3s 74ms/step - loss: 0.0092 - val_loss: 9.9723e-04\n",
            "Epoch 27/100\n",
            "38/38 [==============================] - 4s 108ms/step - loss: 0.0092 - val_loss: 5.2582e-04\n",
            "Epoch 28/100\n",
            "38/38 [==============================] - 3s 72ms/step - loss: 0.0106 - val_loss: 8.7246e-04\n",
            "Epoch 29/100\n",
            "38/38 [==============================] - 3s 71ms/step - loss: 0.0090 - val_loss: 9.3813e-04\n",
            "Epoch 30/100\n",
            "38/38 [==============================] - 3s 72ms/step - loss: 0.0078 - val_loss: 0.0025\n",
            "Epoch 31/100\n",
            "38/38 [==============================] - 4s 95ms/step - loss: 0.0076 - val_loss: 0.0016\n",
            "Epoch 32/100\n",
            "38/38 [==============================] - 3s 85ms/step - loss: 0.0076 - val_loss: 0.0039\n",
            "Epoch 33/100\n",
            "38/38 [==============================] - 3s 73ms/step - loss: 0.0072 - val_loss: 0.0025\n",
            "Epoch 34/100\n",
            "38/38 [==============================] - 3s 73ms/step - loss: 0.0067 - val_loss: 0.0059\n",
            "Epoch 35/100\n",
            "38/38 [==============================] - 3s 79ms/step - loss: 0.0061 - val_loss: 5.1289e-04\n",
            "Epoch 36/100\n",
            "38/38 [==============================] - 4s 100ms/step - loss: 0.0063 - val_loss: 0.0016\n",
            "Epoch 37/100\n",
            "38/38 [==============================] - 3s 72ms/step - loss: 0.0056 - val_loss: 5.4530e-04\n",
            "Epoch 38/100\n",
            "38/38 [==============================] - 3s 72ms/step - loss: 0.0052 - val_loss: 6.6616e-04\n",
            "Epoch 39/100\n",
            "38/38 [==============================] - 3s 72ms/step - loss: 0.0048 - val_loss: 5.1394e-04\n",
            "Epoch 40/100\n",
            "38/38 [==============================] - 4s 110ms/step - loss: 0.0053 - val_loss: 5.8759e-04\n",
            "Epoch 41/100\n",
            "38/38 [==============================] - 3s 75ms/step - loss: 0.0052 - val_loss: 0.0026\n",
            "Epoch 42/100\n",
            "38/38 [==============================] - 3s 76ms/step - loss: 0.0046 - val_loss: 5.6090e-04\n",
            "Epoch 43/100\n",
            "38/38 [==============================] - 3s 74ms/step - loss: 0.0051 - val_loss: 4.9907e-04\n",
            "Epoch 44/100\n",
            "38/38 [==============================] - 4s 109ms/step - loss: 0.0047 - val_loss: 4.9548e-04\n",
            "Epoch 45/100\n",
            "38/38 [==============================] - 3s 72ms/step - loss: 0.0043 - val_loss: 4.8783e-04\n",
            "Epoch 46/100\n",
            "38/38 [==============================] - 3s 77ms/step - loss: 0.0044 - val_loss: 7.3204e-04\n",
            "Epoch 47/100\n",
            "38/38 [==============================] - 3s 73ms/step - loss: 0.0043 - val_loss: 0.0032\n",
            "Epoch 48/100\n",
            "38/38 [==============================] - 4s 98ms/step - loss: 0.0049 - val_loss: 5.1610e-04\n",
            "Epoch 49/100\n",
            "38/38 [==============================] - 3s 83ms/step - loss: 0.0043 - val_loss: 4.8113e-04\n",
            "Epoch 50/100\n",
            "38/38 [==============================] - 3s 73ms/step - loss: 0.0038 - val_loss: 8.5611e-04\n",
            "Epoch 51/100\n",
            "38/38 [==============================] - 3s 73ms/step - loss: 0.0037 - val_loss: 5.2205e-04\n",
            "Epoch 52/100\n",
            "38/38 [==============================] - 3s 82ms/step - loss: 0.0035 - val_loss: 6.6031e-04\n",
            "Epoch 53/100\n",
            "38/38 [==============================] - 4s 97ms/step - loss: 0.0036 - val_loss: 5.4319e-04\n",
            "Epoch 54/100\n",
            "38/38 [==============================] - 3s 74ms/step - loss: 0.0036 - val_loss: 4.8126e-04\n",
            "Epoch 55/100\n",
            "38/38 [==============================] - 3s 73ms/step - loss: 0.0034 - val_loss: 5.9779e-04\n",
            "Epoch 56/100\n",
            "38/38 [==============================] - 3s 74ms/step - loss: 0.0034 - val_loss: 4.9826e-04\n",
            "Epoch 57/100\n",
            "38/38 [==============================] - 4s 108ms/step - loss: 0.0035 - val_loss: 8.0365e-04\n",
            "Epoch 58/100\n",
            "38/38 [==============================] - 3s 74ms/step - loss: 0.0035 - val_loss: 5.4167e-04\n",
            "Epoch 59/100\n",
            "38/38 [==============================] - 3s 73ms/step - loss: 0.0031 - val_loss: 5.5944e-04\n",
            "Epoch 60/100\n",
            "38/38 [==============================] - 3s 76ms/step - loss: 0.0031 - val_loss: 0.0014\n",
            "Epoch 61/100\n",
            "38/38 [==============================] - 4s 110ms/step - loss: 0.0033 - val_loss: 7.9124e-04\n",
            "Epoch 62/100\n",
            "38/38 [==============================] - 3s 75ms/step - loss: 0.0029 - val_loss: 5.9452e-04\n",
            "Epoch 63/100\n",
            "38/38 [==============================] - 3s 75ms/step - loss: 0.0029 - val_loss: 5.6257e-04\n",
            "Epoch 64/100\n",
            "38/38 [==============================] - 3s 74ms/step - loss: 0.0029 - val_loss: 5.9959e-04\n",
            "Epoch 65/100\n",
            "38/38 [==============================] - 4s 103ms/step - loss: 0.0027 - val_loss: 4.7084e-04\n",
            "Epoch 66/100\n",
            "38/38 [==============================] - 3s 77ms/step - loss: 0.0025 - val_loss: 8.3571e-04\n",
            "Epoch 67/100\n",
            "38/38 [==============================] - 3s 75ms/step - loss: 0.0026 - val_loss: 4.6753e-04\n",
            "Epoch 68/100\n",
            "38/38 [==============================] - 3s 75ms/step - loss: 0.0027 - val_loss: 6.0774e-04\n",
            "Epoch 69/100\n",
            "38/38 [==============================] - 4s 100ms/step - loss: 0.0026 - val_loss: 5.1099e-04\n",
            "Epoch 70/100\n",
            "38/38 [==============================] - 3s 84ms/step - loss: 0.0024 - val_loss: 6.9379e-04\n",
            "Epoch 71/100\n",
            "38/38 [==============================] - 3s 72ms/step - loss: 0.0027 - val_loss: 4.6433e-04\n",
            "Epoch 72/100\n",
            "38/38 [==============================] - 3s 73ms/step - loss: 0.0026 - val_loss: 5.1267e-04\n",
            "Epoch 73/100\n",
            "38/38 [==============================] - 3s 82ms/step - loss: 0.0028 - val_loss: 4.7600e-04\n",
            "Epoch 74/100\n",
            "38/38 [==============================] - 4s 98ms/step - loss: 0.0022 - val_loss: 5.4762e-04\n",
            "Epoch 75/100\n",
            "38/38 [==============================] - 3s 72ms/step - loss: 0.0023 - val_loss: 8.1876e-04\n",
            "Epoch 76/100\n",
            "38/38 [==============================] - 3s 75ms/step - loss: 0.0025 - val_loss: 8.8487e-04\n",
            "Epoch 77/100\n",
            "38/38 [==============================] - 3s 75ms/step - loss: 0.0023 - val_loss: 5.7620e-04\n",
            "Epoch 78/100\n",
            "38/38 [==============================] - 4s 110ms/step - loss: 0.0024 - val_loss: 5.9235e-04\n",
            "Epoch 79/100\n",
            "38/38 [==============================] - 3s 75ms/step - loss: 0.0023 - val_loss: 6.2294e-04\n",
            "Epoch 80/100\n",
            "38/38 [==============================] - 3s 75ms/step - loss: 0.0023 - val_loss: 5.8658e-04\n",
            "Epoch 81/100\n",
            "38/38 [==============================] - 3s 73ms/step - loss: 0.0026 - val_loss: 4.9015e-04\n",
            "Epoch 82/100\n",
            "38/38 [==============================] - 4s 109ms/step - loss: 0.0021 - val_loss: 5.1155e-04\n",
            "Epoch 83/100\n",
            "38/38 [==============================] - 3s 73ms/step - loss: 0.0024 - val_loss: 0.0011\n",
            "Epoch 84/100\n",
            "38/38 [==============================] - 3s 73ms/step - loss: 0.0021 - val_loss: 9.4719e-04\n",
            "Epoch 85/100\n",
            "38/38 [==============================] - 3s 75ms/step - loss: 0.0022 - val_loss: 4.3703e-04\n",
            "Epoch 86/100\n",
            "38/38 [==============================] - 4s 100ms/step - loss: 0.0023 - val_loss: 0.0011\n",
            "Epoch 87/100\n",
            "38/38 [==============================] - 3s 83ms/step - loss: 0.0020 - val_loss: 4.6768e-04\n",
            "Epoch 88/100\n",
            "38/38 [==============================] - 3s 74ms/step - loss: 0.0023 - val_loss: 4.1736e-04\n",
            "Epoch 89/100\n",
            "38/38 [==============================] - 3s 76ms/step - loss: 0.0021 - val_loss: 4.8961e-04\n",
            "Epoch 90/100\n",
            "38/38 [==============================] - 3s 89ms/step - loss: 0.0019 - val_loss: 5.9337e-04\n",
            "Epoch 91/100\n",
            "38/38 [==============================] - 4s 94ms/step - loss: 0.0019 - val_loss: 4.5075e-04\n",
            "Epoch 92/100\n",
            "38/38 [==============================] - 3s 74ms/step - loss: 0.0019 - val_loss: 6.4830e-04\n",
            "Epoch 93/100\n",
            "38/38 [==============================] - 3s 74ms/step - loss: 0.0019 - val_loss: 0.0011\n",
            "Epoch 94/100\n",
            "38/38 [==============================] - 3s 81ms/step - loss: 0.0019 - val_loss: 4.3394e-04\n",
            "Epoch 95/100\n",
            "38/38 [==============================] - 4s 103ms/step - loss: 0.0019 - val_loss: 4.2192e-04\n",
            "Epoch 96/100\n",
            "38/38 [==============================] - 3s 75ms/step - loss: 0.0018 - val_loss: 6.1933e-04\n",
            "Epoch 97/100\n",
            "38/38 [==============================] - 3s 75ms/step - loss: 0.0020 - val_loss: 0.0013\n",
            "Epoch 98/100\n",
            "38/38 [==============================] - 3s 77ms/step - loss: 0.0019 - val_loss: 9.2590e-04\n",
            "Epoch 99/100\n",
            "38/38 [==============================] - 4s 107ms/step - loss: 0.0020 - val_loss: 4.3999e-04\n",
            "Epoch 100/100\n",
            "38/38 [==============================] - 3s 72ms/step - loss: 0.0019 - val_loss: 0.0025\n"
          ]
        },
        {
          "output_type": "execute_result",
          "data": {
            "text/plain": [
              "<keras.callbacks.History at 0x7feb9efaffd0>"
            ]
          },
          "metadata": {},
          "execution_count": 35
        }
      ],
      "source": [
        "model.fit(x_train,y_train,epochs=100,batch_size=30,validation_split=0.05)"
      ]
    },
    {
      "cell_type": "markdown",
      "id": "775a544e",
      "metadata": {
        "id": "775a544e"
      },
      "source": [
        "### Prepare test dataset"
      ]
    },
    {
      "cell_type": "code",
      "execution_count": 36,
      "id": "ef0e2453",
      "metadata": {
        "id": "ef0e2453"
      },
      "outputs": [],
      "source": [
        "data = pd.concat((train_df['Open'],test_df['Open']),axis=0)"
      ]
    },
    {
      "cell_type": "code",
      "execution_count": 37,
      "id": "923dbaa2",
      "metadata": {
        "id": "923dbaa2",
        "outputId": "ccc25aa8-dfa6-4773-cbd6-822a3f39a182",
        "colab": {
          "base_uri": "https://localhost:8080/"
        }
      },
      "outputs": [
        {
          "output_type": "execute_result",
          "data": {
            "text/plain": [
              "(80,)"
            ]
          },
          "metadata": {},
          "execution_count": 37
        }
      ],
      "source": [
        "test_input = data.iloc[len(data) - len(test_df) - time : ].values\n",
        "test_input.shape"
      ]
    },
    {
      "cell_type": "code",
      "execution_count": 38,
      "id": "b9135535",
      "metadata": {
        "id": "b9135535",
        "outputId": "681e8d6f-6778-4d00-be16-1b4b880d8751",
        "colab": {
          "base_uri": "https://localhost:8080/"
        }
      },
      "outputs": [
        {
          "output_type": "execute_result",
          "data": {
            "text/plain": [
              "(80, 1)"
            ]
          },
          "metadata": {},
          "execution_count": 38
        }
      ],
      "source": [
        "test_input = test_input.reshape(-1,1)\n",
        "test_input.shape"
      ]
    },
    {
      "cell_type": "code",
      "execution_count": 39,
      "id": "e2cae5d2",
      "metadata": {
        "id": "e2cae5d2"
      },
      "outputs": [],
      "source": [
        "test_scaled = scaler.transform(test_input)"
      ]
    },
    {
      "cell_type": "markdown",
      "id": "ff2d1fce",
      "metadata": {
        "id": "ff2d1fce"
      },
      "source": [
        "#### Create test data set"
      ]
    },
    {
      "cell_type": "code",
      "execution_count": 40,
      "id": "3b42f414",
      "metadata": {
        "id": "3b42f414",
        "outputId": "65228024-ae81-4f69-b223-2f5a889b75a1",
        "colab": {
          "base_uri": "https://localhost:8080/"
        }
      },
      "outputs": [
        {
          "output_type": "execute_result",
          "data": {
            "text/plain": [
              "(20, 60)"
            ]
          },
          "metadata": {},
          "execution_count": 40
        }
      ],
      "source": [
        "x_test = []\n",
        "for i in range(time,test_scaled.shape[0]):\n",
        "    x_test.append(test_scaled[i - time: i,0 ])\n",
        "x_test = np.array(x_test)\n",
        "x_test.shape"
      ]
    },
    {
      "cell_type": "code",
      "execution_count": 41,
      "id": "9b65f6cb",
      "metadata": {
        "id": "9b65f6cb",
        "outputId": "04149d5d-c4f5-460c-b8ef-b5d4363a7f1b",
        "colab": {
          "base_uri": "https://localhost:8080/"
        }
      },
      "outputs": [
        {
          "output_type": "execute_result",
          "data": {
            "text/plain": [
              "(20, 60, 1)"
            ]
          },
          "metadata": {},
          "execution_count": 41
        }
      ],
      "source": [
        "x_test = np.reshape(x_test,newshape=(x_test.shape[0],x_test.shape[1],1))\n",
        "x_test.shape"
      ]
    },
    {
      "cell_type": "code",
      "execution_count": 42,
      "id": "0008a724",
      "metadata": {
        "id": "0008a724"
      },
      "outputs": [],
      "source": [
        "y_test = test_df.loc[:,\"Open\"].values"
      ]
    },
    {
      "cell_type": "markdown",
      "id": "dd4e409b",
      "metadata": {
        "id": "dd4e409b"
      },
      "source": [
        "### Model Prediction"
      ]
    },
    {
      "cell_type": "code",
      "execution_count": 43,
      "id": "99d79639",
      "metadata": {
        "id": "99d79639",
        "colab": {
          "base_uri": "https://localhost:8080/"
        },
        "outputId": "c994e834-7243-478c-d0fa-0c8eca5b3a6a"
      },
      "outputs": [
        {
          "output_type": "stream",
          "name": "stdout",
          "text": [
            "1/1 [==============================] - 1s 613ms/step\n"
          ]
        }
      ],
      "source": [
        "y_pred = model.predict(x_test)"
      ]
    },
    {
      "cell_type": "code",
      "execution_count": 44,
      "id": "62f8ac3b",
      "metadata": {
        "id": "62f8ac3b"
      },
      "outputs": [],
      "source": [
        "y_pred = scaler.inverse_transform(y_pred)"
      ]
    },
    {
      "cell_type": "code",
      "execution_count": 45,
      "id": "58bf448d",
      "metadata": {
        "id": "58bf448d",
        "outputId": "9de01e3e-f899-4b48-81af-9381cbd5ac34",
        "colab": {
          "base_uri": "https://localhost:8080/"
        }
      },
      "outputs": [
        {
          "output_type": "stream",
          "name": "stdout",
          "text": [
            "1/1 [==============================] - 1s 560ms/step - loss: 650833.0625\n"
          ]
        }
      ],
      "source": [
        "output = model.evaluate(x=x_test,y=y_test)"
      ]
    },
    {
      "cell_type": "code",
      "execution_count": 46,
      "id": "7f71b3da",
      "metadata": {
        "id": "7f71b3da",
        "outputId": "58d603c1-659c-4a45-8476-5a1a079e26f0",
        "colab": {
          "base_uri": "https://localhost:8080/",
          "height": 472
        }
      },
      "outputs": [
        {
          "output_type": "display_data",
          "data": {
            "text/plain": [
              "<Figure size 640x480 with 1 Axes>"
            ],
            "image/png": "[encoded data removed]"
          },
          "metadata": {}
        }
      ],
      "source": [
        "plt.plot(y_test, color = 'red', label = 'Real price')\n",
        "plt.plot(y_pred, color = 'blue', label = 'Predicted price')\n",
        "\n",
        "plt.title('Google Stock price prediction')\n",
        "plt.xlabel('Time')\n",
        "plt.ylabel('Price')\n",
        "plt.legend()\n",
        "plt.show()"
      ]
    },
    {
      "cell_type": "code",
      "source": [],
      "metadata": {
        "id": "KiKMExuaWWJW"
      },
      "id": "KiKMExuaWWJW",
      "execution_count": null,
      "outputs": []
    }
  ],
  "metadata": {
    "kernelspec": {
      "display_name": "Python 3",
      "language": "python",
      "name": "python3"
    },
    "language_info": {
      "codemirror_mode": {
        "name": "ipython",
        "version": 3
      },
      "file_extension": ".py",
      "mimetype": "text/x-python",
      "name": "python",
      "nbconvert_exporter": "python",
      "pygments_lexer": "ipython3",
      "version": "3.8.8"
    },
    "colab": {
      "provenance": []
    }
  },
  "nbformat": 4,
  "nbformat_minor": 5
}